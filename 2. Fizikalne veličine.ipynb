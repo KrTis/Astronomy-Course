{
 "cells": [
  {
   "cell_type": "markdown",
   "metadata": {},
   "source": [
    "# Fizikalne veličine"
   ]
  },
  {
   "cell_type": "code",
   "execution_count": 1,
   "metadata": {},
   "outputs": [],
   "source": [
    "import numpy as np\n",
    "import pandas as pd\n",
    "import matplotlib.pyplot as plt\n",
    "\n",
    "class pretvaranje:\n",
    "    def __init__(self,\n",
    "                 flux : 'F [W/m^2]'  = None,\n",
    "                 m    : 'm_v'        = None,\n",
    "                 d    : 'd [pc]'     = None,\n",
    "                 p    : 'p [arcsec]' = None,\n",
    "                 M    : 'M_v'        = None,\n",
    "                 F0   : 'F0 [W/m^2]' = 1.,\n",
    "                 m0   : 'm0'         = 0.):\n",
    "        self.flux = flux\n",
    "        self.m    = m\n",
    "        self.d    = d\n",
    "        self.p    = p\n",
    "        self.M    = M\n",
    "        self.F0   = F0\n",
    "        self.m0   = m0\n",
    "    def paralaksa_udaljenost(self, p    : 'p [arcsec]' = None,):\n",
    "        if p is not None:\n",
    "            self.p = p\n",
    "        self.d = pretvaranje._p_d(self.p)\n",
    "        return self.d\n",
    "    def udaljenost_paralaksa(self, d    : 'd [pc]'     = None,):\n",
    "        if d is not None:\n",
    "            self.d = d\n",
    "        self.p = pretvaranje._p_d(self.d)\n",
    "        return self.p\n",
    "    def m_M(self,\n",
    "            m    : 'm_v'        = None,\n",
    "            d    : 'd [pc]'     = None,):\n",
    "        if m is not None:\n",
    "            self.m = m\n",
    "        if d is not None:\n",
    "            self.d = d\n",
    "        self.M = pretvaranje._m_M(self.m, self.d)\n",
    "        return self.M\n",
    "    def M_m(self,\n",
    "            M    : 'M_v'        = None,\n",
    "            d    : 'd [pc]'     = None,):\n",
    "        if M is not None:\n",
    "            self.M = M\n",
    "        if d is not None:\n",
    "            self.d = d\n",
    "        self.m = pretvaranje._M_m(self.m, self.d)\n",
    "        return self.m\n",
    "    def F_m(self, flux : 'F [W/m^2]'  = None,):\n",
    "        if flux is not None:\n",
    "            self.flux = flux\n",
    "        self.m = pretvaranje._F_m(self.flux, self.F0, self.m0)\n",
    "        return self.m\n",
    "    def m_F(self, m    : 'm_v'        = None,):\n",
    "        if m is not None:\n",
    "            self.m = m\n",
    "        self.flux = pretvaranje._m_F(self.m, self.m0, self.F0)\n",
    "        return self.flux\n",
    "    @staticmethod\n",
    "    def _p_d(p):\n",
    "        return 1./p\n",
    "    @staticmethod\n",
    "    def _m_M(m, d):\n",
    "        return m+5-5*np.log10(d)\n",
    "    @staticmethod\n",
    "    def _M_m(M, d):\n",
    "        return M-5+5*np.log10(d)\n",
    "    @staticmethod\n",
    "    def _F_m(F, F0, m0):\n",
    "        return -2.5*np.log10(F/F0)+m0\n",
    "    @staticmethod\n",
    "    def _m_F(m, m0, F0):\n",
    "        return F0*2.512**(m0-m)"
   ]
  },
  {
   "cell_type": "markdown",
   "metadata": {},
   "source": [
    "## Zadatak 1\n",
    "Otvoreni skup zvijezda M45, udaljen 136 pc,  sastoji se od 11 zvijezda različitih magnituda.\n",
    "\n",
    "Izračunati:\n",
    "1. Ukupnu prividnu magnitudu\n",
    "2. Ukupnu apsolutnu magnitudu\n",
    "2. Ukupnu prividnu magnitudu bez najsjajnije zvijezde\n",
    "3. Ukupnu apsolutnu magnitudu u oba slučaja"
   ]
  },
  {
   "cell_type": "code",
   "execution_count": 2,
   "metadata": {},
   "outputs": [
    {
     "data": {
      "text/html": [
       "<div>\n",
       "<style>\n",
       "    .dataframe thead tr:only-child th {\n",
       "        text-align: right;\n",
       "    }\n",
       "\n",
       "    .dataframe thead th {\n",
       "        text-align: left;\n",
       "    }\n",
       "\n",
       "    .dataframe tbody tr th {\n",
       "        vertical-align: top;\n",
       "    }\n",
       "</style>\n",
       "<table border=\"1\" class=\"dataframe\">\n",
       "  <thead>\n",
       "    <tr style=\"text-align: right;\">\n",
       "      <th></th>\n",
       "      <th>Ime</th>\n",
       "      <th>m</th>\n",
       "      <th>d [pc]</th>\n",
       "      <th>$M$</th>\n",
       "      <th>$F/F_0$</th>\n",
       "    </tr>\n",
       "  </thead>\n",
       "  <tbody>\n",
       "    <tr>\n",
       "      <th>0</th>\n",
       "      <td>$\\eta$ Tau</td>\n",
       "      <td>2.86</td>\n",
       "      <td>136</td>\n",
       "      <td>-2.807695</td>\n",
       "      <td>0.071770</td>\n",
       "    </tr>\n",
       "    <tr>\n",
       "      <th>1</th>\n",
       "      <td>27 Tau</td>\n",
       "      <td>3.62</td>\n",
       "      <td>136</td>\n",
       "      <td>-2.047695</td>\n",
       "      <td>0.035639</td>\n",
       "    </tr>\n",
       "    <tr>\n",
       "      <th>2</th>\n",
       "      <td>17 Tau</td>\n",
       "      <td>3.70</td>\n",
       "      <td>136</td>\n",
       "      <td>-1.967695</td>\n",
       "      <td>0.033108</td>\n",
       "    </tr>\n",
       "    <tr>\n",
       "      <th>3</th>\n",
       "      <td>20 Tau</td>\n",
       "      <td>3.86</td>\n",
       "      <td>136</td>\n",
       "      <td>-1.807695</td>\n",
       "      <td>0.028571</td>\n",
       "    </tr>\n",
       "    <tr>\n",
       "      <th>4</th>\n",
       "      <td>23 Tau</td>\n",
       "      <td>4.17</td>\n",
       "      <td>136</td>\n",
       "      <td>-1.497695</td>\n",
       "      <td>0.021474</td>\n",
       "    </tr>\n",
       "    <tr>\n",
       "      <th>5</th>\n",
       "      <td>19 Tau</td>\n",
       "      <td>4.29</td>\n",
       "      <td>136</td>\n",
       "      <td>-1.377695</td>\n",
       "      <td>0.019227</td>\n",
       "    </tr>\n",
       "    <tr>\n",
       "      <th>6</th>\n",
       "      <td>26 Tau</td>\n",
       "      <td>5.09</td>\n",
       "      <td>136</td>\n",
       "      <td>-0.577695</td>\n",
       "      <td>0.009202</td>\n",
       "    </tr>\n",
       "    <tr>\n",
       "      <th>7</th>\n",
       "      <td>16 Tau</td>\n",
       "      <td>5.44</td>\n",
       "      <td>136</td>\n",
       "      <td>-0.227695</td>\n",
       "      <td>0.006666</td>\n",
       "    </tr>\n",
       "    <tr>\n",
       "      <th>8</th>\n",
       "      <td>21 Tau</td>\n",
       "      <td>5.64</td>\n",
       "      <td>136</td>\n",
       "      <td>-0.027695</td>\n",
       "      <td>0.005545</td>\n",
       "    </tr>\n",
       "    <tr>\n",
       "      <th>9</th>\n",
       "      <td>22 Tau</td>\n",
       "      <td>6.41</td>\n",
       "      <td>136</td>\n",
       "      <td>0.742305</td>\n",
       "      <td>0.002728</td>\n",
       "    </tr>\n",
       "    <tr>\n",
       "      <th>10</th>\n",
       "      <td>18 Tau</td>\n",
       "      <td>5.66</td>\n",
       "      <td>136</td>\n",
       "      <td>-0.007695</td>\n",
       "      <td>0.005444</td>\n",
       "    </tr>\n",
       "  </tbody>\n",
       "</table>\n",
       "</div>"
      ],
      "text/plain": [
       "           Ime     m  d [pc]       $M$   $F/F_0$\n",
       "0   $\\eta$ Tau  2.86     136 -2.807695  0.071770\n",
       "1       27 Tau  3.62     136 -2.047695  0.035639\n",
       "2       17 Tau  3.70     136 -1.967695  0.033108\n",
       "3       20 Tau  3.86     136 -1.807695  0.028571\n",
       "4       23 Tau  4.17     136 -1.497695  0.021474\n",
       "5       19 Tau  4.29     136 -1.377695  0.019227\n",
       "6       26 Tau  5.09     136 -0.577695  0.009202\n",
       "7       16 Tau  5.44     136 -0.227695  0.006666\n",
       "8       21 Tau  5.64     136 -0.027695  0.005545\n",
       "9       22 Tau  6.41     136  0.742305  0.002728\n",
       "10      18 Tau  5.66     136 -0.007695  0.005444"
      ]
     },
     "execution_count": 2,
     "metadata": {},
     "output_type": "execute_result"
    }
   ],
   "source": [
    "\n",
    "tablica = pd.DataFrame([['$\\eta$ Tau', 2.86],\n",
    "              ['27 Tau', 3.62],\n",
    "              ['17 Tau', 3.7],\n",
    "              ['20 Tau', 3.86],\n",
    "              ['23 Tau', 4.17],\n",
    "              ['19 Tau', 4.29],\n",
    "              ['26 Tau', 5.09],\n",
    "              ['16 Tau', 5.44],\n",
    "              ['21 Tau', 5.64],\n",
    "              ['22 Tau', 6.41],\n",
    "              ['18 Tau', 5.66]\n",
    "             ],\n",
    "            columns = ['Ime', 'm'])\n",
    "tablica['d [pc]'] = 136\n",
    "P = pretvaranje(d=tablica['d [pc]'], m=tablica['m'])\n",
    "tablica['$M$'] = P.m_M()\n",
    "tablica['$F/F_0$'] = P.m_F()\n",
    "tablica"
   ]
  },
  {
   "cell_type": "markdown",
   "metadata": {},
   "source": [
    "1. i 2."
   ]
  },
  {
   "cell_type": "code",
   "execution_count": 3,
   "metadata": {},
   "outputs": [
    {
     "name": "stdout",
     "output_type": "stream",
     "text": [
      "m =  1.55230377874\n",
      "M =  -4.11539076312\n"
     ]
    }
   ],
   "source": [
    "Puk = pretvaranje(d=136, flux = np.sum(tablica['$F/F_0$']))\n",
    "print('m = ', Puk.F_m())\n",
    "print('M = ', Puk.m_M())"
   ]
  },
  {
   "cell_type": "markdown",
   "metadata": {},
   "source": [
    "3. i 4.\n",
    "Vidimo da je najsjajnija ona na 0. mjestu"
   ]
  },
  {
   "cell_type": "code",
   "execution_count": 4,
   "metadata": {},
   "outputs": [
    {
     "name": "stdout",
     "output_type": "stream",
     "text": [
      "m =  1.93928461601\n",
      "M =  -3.72840992585\n"
     ]
    }
   ],
   "source": [
    "Puk = pretvaranje(d=136, flux = np.sum(tablica.loc[1:,'$F/F_0$']))\n",
    "print('m = ', Puk.F_m())\n",
    "print('M = ', Puk.m_M())"
   ]
  },
  {
   "cell_type": "markdown",
   "metadata": {},
   "source": [
    "## Zadatak 2\n",
    "Objekt ima magnitudu $m_1$. Ako se sjaj objekta promijeni za p%, koliko se promijeni magnituda?\n",
    "\n",
    "\\begin{equation}\n",
    "m_p-m_1 = -2.5\\mathrm{lg}\\left(1+\\frac{p}{100}\\right)=-\\frac{2.5}{\\ln 10}\\frac{p}{100}+O\\left(\\left(\\frac{p}{100}\\right)^2\\right)=-0.0109 p+O\\left(\\left(\\frac{p}{100}\\right)^2\\right)\n",
    "\\end{equation}\n",
    "Koliko griješimo u ovoj aproksimaciji?"
   ]
  },
  {
   "cell_type": "code",
   "execution_count": 5,
   "metadata": {},
   "outputs": [
    {
     "data": {
      "image/png": "[encoded data removed]",
      "text/plain": [
       "<matplotlib.figure.Figure at 0x110423198>"
      ]
     },
     "execution_count": 5,
     "metadata": {},
     "output_type": "execute_result"
    }
   ],
   "source": [
    "f, ax = plt.subplots(1, 1)\n",
    "p = np.logspace(0, 2, 100)\n",
    "dm_pravi  = -2.5*np.log10(1+p/100)\n",
    "dm_approx = -0.0109*p\n",
    "ax.plot(p, dm_pravi, label='Pravi izraz')\n",
    "ax.plot(p, dm_approx, label='Aproksimacija')\n",
    "ax.set_xlabel(r'$p\\,[\\%]$', fontsize=16)\n",
    "ax.set_ylabel('$m_p-m$', fontsize=16)\n",
    "ax.grid(True, axis='both', which='major')\n",
    "ax.grid(True, axis='both', which='major', alpha=0.3)\n",
    "ax.set_xlim(1, 100)\n",
    "ax.legend()\n",
    "f"
   ]
  }
 ],
 "metadata": {
  "kernelspec": {
   "display_name": "Python 3",
   "language": "python",
   "name": "python3"
  },
  "language_info": {
   "codemirror_mode": {
    "name": "ipython",
    "version": 3
   },
   "file_extension": ".py",
   "mimetype": "text/x-python",
   "name": "python",
   "nbconvert_exporter": "python",
   "pygments_lexer": "ipython3",
   "version": "3.6.3"
  }
 },
 "nbformat": 4,
 "nbformat_minor": 2
}
